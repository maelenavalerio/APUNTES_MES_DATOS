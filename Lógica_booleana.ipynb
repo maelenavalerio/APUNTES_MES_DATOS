{
 "cells": [
  {
   "attachments": {},
   "cell_type": "markdown",
   "metadata": {},
   "source": [
    "# Lógica Booleana en Python\n",
    "1. IF\n",
    "2. else, elif\n",
    "3. IF anidado\n",
    "4. Operadores and, or\n",
    "5. Cadenas de texto\n",
    "6. Función print()\n"
   ]
  },
  {
   "attachments": {},
   "cell_type": "markdown",
   "metadata": {},
   "source": [
    "## 1. Instrucciones con \"IF\""
   ]
  },
  {
   "cell_type": "code",
   "execution_count": 1,
   "metadata": {},
   "outputs": [],
   "source": [
    "a = 97\n",
    "b = 55\n",
    "# test expression\n",
    "if a < b:\n",
    "    # statement to be run\n",
    "    print(b)"
   ]
  },
  {
   "cell_type": "code",
   "execution_count": 2,
   "metadata": {},
   "outputs": [
    {
     "name": "stdout",
     "output_type": "stream",
     "text": [
      "93\n"
     ]
    }
   ],
   "source": [
    "a = 93\n",
    "b = 27\n",
    "if a >= b:\n",
    "    print(a)"
   ]
  },
  {
   "cell_type": "code",
   "execution_count": 3,
   "metadata": {},
   "outputs": [
    {
     "name": "stdout",
     "output_type": "stream",
     "text": [
      "44\n"
     ]
    }
   ],
   "source": [
    "a = 24\n",
    "b = 44\n",
    "if a <= 0:\n",
    "    print(a) # La función que se quiere ejecutar debe llevar sangría\n",
    "print(b)"
   ]
  },
  {
   "attachments": {},
   "cell_type": "markdown",
   "metadata": {},
   "source": [
    "## 2. Instrucciones con \"else\" y \"elif\"\n",
    "\n",
    "Comenzamos con #else\""
   ]
  },
  {
   "cell_type": "code",
   "execution_count": 4,
   "metadata": {},
   "outputs": [
    {
     "name": "stdout",
     "output_type": "stream",
     "text": [
      "93\n"
     ]
    }
   ],
   "source": [
    "a = 93\n",
    "b = 27\n",
    "if a >= b:\n",
    "    print(a)\n",
    "else:\n",
    "    print(b)"
   ]
  },
  {
   "attachments": {},
   "cell_type": "markdown",
   "metadata": {},
   "source": [
    "Luego, uso de elif"
   ]
  },
  {
   "cell_type": "code",
   "execution_count": 5,
   "metadata": {},
   "outputs": [
    {
     "name": "stdout",
     "output_type": "stream",
     "text": [
      "a is greater than or equal to b\n"
     ]
    }
   ],
   "source": [
    "a = 93\n",
    "b = 27\n",
    "if a >= b:\n",
    "    print(\"a is greater than or equal to b\")\n",
    "elif a == b:\n",
    "    print(\"a is equal to b\")"
   ]
  },
  {
   "attachments": {},
   "cell_type": "markdown",
   "metadata": {},
   "source": [
    "Combinamos if, else, y elif"
   ]
  },
  {
   "cell_type": "code",
   "execution_count": 6,
   "metadata": {},
   "outputs": [
    {
     "name": "stdout",
     "output_type": "stream",
     "text": [
      "a is greater than b\n"
     ]
    }
   ],
   "source": [
    "a = 93\n",
    "b = 27\n",
    "if a > b:\n",
    "    print(\"a is greater than b\")\n",
    "elif a < b:\n",
    "    print(\"a is less than b\")\n",
    "else: \n",
    "    print (\"a is equal to b\")"
   ]
  },
  {
   "attachments": {},
   "cell_type": "markdown",
   "metadata": {},
   "source": [
    "## 3. \"IF\" anidados"
   ]
  },
  {
   "cell_type": "code",
   "execution_count": 7,
   "metadata": {},
   "outputs": [
    {
     "name": "stdout",
     "output_type": "stream",
     "text": [
      "a is less than b\n"
     ]
    }
   ],
   "source": [
    "a = 16\n",
    "b = 25\n",
    "c = 27\n",
    "if a > b:\n",
    "    if b > c:\n",
    "        print (\"a is greater than b and b is greater than c\")\n",
    "    else: \n",
    "        print (\"a is greater than b and less than c\")\n",
    "elif a == b:\n",
    "    print (\"a is equal to b\")\n",
    "else:\n",
    "    print (\"a is less than b\")"
   ]
  },
  {
   "attachments": {},
   "cell_type": "markdown",
   "metadata": {},
   "source": [
    "## 4. Ejercicios "
   ]
  },
  {
   "cell_type": "code",
   "execution_count": 8,
   "metadata": {},
   "outputs": [
    {
     "name": "stdout",
     "output_type": "stream",
     "text": [
      "We need to keep an eye on this object\n"
     ]
    }
   ],
   "source": [
    "# Ejercicio 1\n",
    "bject_size = 10\n",
    "if object_size > 5:\n",
    "    print('We need to keep an eye on this object')\n",
    "else:\n",
    "    print('Object poses no threat.')"
   ]
  },
  {
   "attachments": {},
   "cell_type": "markdown",
   "metadata": {},
   "source": [
    "# 5. Operadores \"and\" y \"or\""
   ]
  },
  {
   "cell_type": "code",
   "execution_count": 9,
   "metadata": {},
   "outputs": [
    {
     "name": "stdout",
     "output_type": "stream",
     "text": [
      "57\n"
     ]
    }
   ],
   "source": [
    "a = 23\n",
    "b = 34\n",
    "if a == 34 or b == 34:\n",
    "    print(a + b)"
   ]
  },
  {
   "cell_type": "code",
   "execution_count": 10,
   "metadata": {},
   "outputs": [],
   "source": [
    "a = 23\n",
    "b = 34\n",
    "if a == 34 and b == 34:\n",
    "    print (a + b)"
   ]
  },
  {
   "attachments": {},
   "cell_type": "markdown",
   "metadata": {},
   "source": [
    "## 6. Ejercicio"
   ]
  },
  {
   "cell_type": "code",
   "execution_count": 11,
   "metadata": {},
   "outputs": [
    {
     "name": "stdout",
     "output_type": "stream",
     "text": [
      "Object poses no threat\n"
     ]
    }
   ],
   "source": [
    "object_size = 10\n",
    "proximity = 9000\n",
    "\n",
    "if object_size > 5 and proximity < 1000:\n",
    "    print('Evasive maneuvers required')\n",
    "else:\n",
    "    print('Object poses no threat')"
   ]
  },
  {
   "attachments": {},
   "cell_type": "markdown",
   "metadata": {},
   "source": [
    "## 7. Cadenas de texto"
   ]
  },
  {
   "cell_type": "code",
   "execution_count": 20,
   "metadata": {},
   "outputs": [
    {
     "data": {
      "text/plain": [
       "'The Moon has no atmosphere.No sound can be heard on the Moon.'"
      ]
     },
     "execution_count": 20,
     "metadata": {},
     "output_type": "execute_result"
    }
   ],
   "source": [
    ">>> fact = \"The Moon has no atmosphere.\"\n",
    ">>> fact + \"No sound can be heard on the Moon.\""
   ]
  },
  {
   "cell_type": "code",
   "execution_count": 17,
   "metadata": {},
   "outputs": [
    {
     "data": {
      "text/plain": [
       "'The Moon has no atmosphere.'"
      ]
     },
     "execution_count": 17,
     "metadata": {},
     "output_type": "execute_result"
    }
   ],
   "source": [
    "fact"
   ]
  },
  {
   "cell_type": "code",
   "execution_count": 21,
   "metadata": {},
   "outputs": [
    {
     "data": {
      "text/plain": [
       "'The Moon has no atmosphere.No sound can be heard on the Moon.'"
      ]
     },
     "execution_count": 21,
     "metadata": {},
     "output_type": "execute_result"
    }
   ],
   "source": [
    ">>> two_facts = fact + \"No sound can be heard on the Moon.\"\n",
    ">>> two_facts"
   ]
  },
  {
   "attachments": {},
   "cell_type": "markdown",
   "metadata": {},
   "source": [
    "### a) Uso de Comillas"
   ]
  },
  {
   "cell_type": "code",
   "execution_count": 22,
   "metadata": {},
   "outputs": [
    {
     "data": {
      "text/plain": [
       "'The \"near side\" is the part of the Moon that faces the Earth'"
      ]
     },
     "execution_count": 22,
     "metadata": {},
     "output_type": "execute_result"
    }
   ],
   "source": [
    "'The \"near side\" is the part of the Moon that faces the Earth'"
   ]
  },
  {
   "attachments": {},
   "cell_type": "markdown",
   "metadata": {},
   "source": [
    "### b) Texto multilínea"
   ]
  },
  {
   "cell_type": "code",
   "execution_count": 27,
   "metadata": {},
   "outputs": [
    {
     "name": "stdout",
     "output_type": "stream",
     "text": [
      "Facts about the Moon:\n",
      " There is no atmosphere.\n",
      " There is no sound.\n"
     ]
    }
   ],
   "source": [
    "multiline = \"Facts about the Moon:\\n There is no atmosphere.\\n There is no sound.\"\n",
    "print(multiline)"
   ]
  },
  {
   "cell_type": "code",
   "execution_count": 26,
   "metadata": {},
   "outputs": [
    {
     "name": "stdout",
     "output_type": "stream",
     "text": [
      "Facts about the Moon:\n",
      "        There is no atmosphere.\n",
      "        There is no sound.\n"
     ]
    }
   ],
   "source": [
    "multiline_1 = \"\"\"Facts about the Moon:\n",
    "        There is no atmosphere.\n",
    "        There is no sound.\"\"\"\n",
    "print(multiline_1)"
   ]
  },
  {
   "attachments": {},
   "cell_type": "markdown",
   "metadata": {},
   "source": [
    "### c) Métdos de cadena en Python"
   ]
  },
  {
   "cell_type": "code",
   "execution_count": 28,
   "metadata": {},
   "outputs": [
    {
     "data": {
      "text/plain": [
       "'Temperatures And Facts About The Moon'"
      ]
     },
     "execution_count": 28,
     "metadata": {},
     "output_type": "execute_result"
    }
   ],
   "source": [
    "\"temperatures and facts about the moon\".title()"
   ]
  },
  {
   "cell_type": "code",
   "execution_count": 29,
   "metadata": {},
   "outputs": [
    {
     "data": {
      "text/plain": [
       "'Temperatures And Facts About The Moon'"
      ]
     },
     "execution_count": 29,
     "metadata": {},
     "output_type": "execute_result"
    }
   ],
   "source": [
    "heading = \"temperatures and facts about the moon\"\n",
    "heading.title()"
   ]
  },
  {
   "attachments": {},
   "cell_type": "markdown",
   "metadata": {},
   "source": [
    "### d) División de una cadena"
   ]
  },
  {
   "cell_type": "code",
   "execution_count": 34,
   "metadata": {},
   "outputs": [
    {
     "data": {
      "text/plain": [
       "['Daylight:', '260', 'F', 'Nighttime:', '-280', 'F']"
      ]
     },
     "execution_count": 34,
     "metadata": {},
     "output_type": "execute_result"
    }
   ],
   "source": [
    "temperatures =\"\"\"Daylight: 260 F\n",
    " Nighttime: -280 F\"\"\"\n",
    "temperatures.split()"
   ]
  },
  {
   "cell_type": "code",
   "execution_count": 32,
   "metadata": {},
   "outputs": [
    {
     "data": {
      "text/plain": [
       "['Daylight: 260 F', ' Nighttime: -280 F']"
      ]
     },
     "execution_count": 32,
     "metadata": {},
     "output_type": "execute_result"
    }
   ],
   "source": [
    "temperatures .split('\\n')"
   ]
  },
  {
   "attachments": {},
   "cell_type": "markdown",
   "metadata": {},
   "source": [
    "### e) Búsqueda de una cadena"
   ]
  },
  {
   "attachments": {},
   "cell_type": "markdown",
   "metadata": {},
   "source": [
    "Para verificar si una palabra está en la cadena"
   ]
  },
  {
   "cell_type": "code",
   "execution_count": 35,
   "metadata": {},
   "outputs": [
    {
     "data": {
      "text/plain": [
       "False"
      ]
     },
     "execution_count": 35,
     "metadata": {},
     "output_type": "execute_result"
    }
   ],
   "source": [
    "\"Moon\" in \"This text will describe facts and challenges with space travel\""
   ]
  },
  {
   "cell_type": "code",
   "execution_count": 36,
   "metadata": {},
   "outputs": [
    {
     "data": {
      "text/plain": [
       "True"
      ]
     },
     "execution_count": 36,
     "metadata": {},
     "output_type": "execute_result"
    }
   ],
   "source": [
    "\"Moon\" in \"This text will describe facts about the Moon\""
   ]
  },
  {
   "attachments": {},
   "cell_type": "markdown",
   "metadata": {},
   "source": [
    "Para obtener la posición de unapalabra en la cadena de texto"
   ]
  },
  {
   "cell_type": "code",
   "execution_count": 37,
   "metadata": {},
   "outputs": [
    {
     "data": {
      "text/plain": [
       "-1"
      ]
     },
     "execution_count": 37,
     "metadata": {},
     "output_type": "execute_result"
    }
   ],
   "source": [
    "temperatures = \"\"\"Saturn has a daytime temperature of -170 degrees Celsius,\n",
    " while Mars has -28 Celsius.\"\"\"\n",
    "temperatures.find(\"Moon\") # En este caso no está la palabra"
   ]
  },
  {
   "cell_type": "code",
   "execution_count": 38,
   "metadata": {},
   "outputs": [
    {
     "data": {
      "text/plain": [
       "65"
      ]
     },
     "execution_count": 38,
     "metadata": {},
     "output_type": "execute_result"
    }
   ],
   "source": [
    "temperatures.find(\"Mars\")"
   ]
  },
  {
   "cell_type": "code",
   "execution_count": 42,
   "metadata": {},
   "outputs": [
    {
     "data": {
      "text/plain": [
       "9"
      ]
     },
     "execution_count": 42,
     "metadata": {},
     "output_type": "execute_result"
    }
   ],
   "source": [
    "aux = \"1234 678 10\"\n",
    "aux.find(\"10\")"
   ]
  },
  {
   "attachments": {},
   "cell_type": "markdown",
   "metadata": {},
   "source": [
    "Número de veces que aparece una palabra en una cadena de texto"
   ]
  },
  {
   "cell_type": "code",
   "execution_count": 43,
   "metadata": {},
   "outputs": [
    {
     "data": {
      "text/plain": [
       "1"
      ]
     },
     "execution_count": 43,
     "metadata": {},
     "output_type": "execute_result"
    }
   ],
   "source": [
    "temperatures.count(\"Mars\")"
   ]
  },
  {
   "cell_type": "code",
   "execution_count": 44,
   "metadata": {},
   "outputs": [
    {
     "data": {
      "text/plain": [
       "0"
      ]
     },
     "execution_count": 44,
     "metadata": {},
     "output_type": "execute_result"
    }
   ],
   "source": [
    "temperatures.count(\"Moon\")"
   ]
  },
  {
   "attachments": {},
   "cell_type": "markdown",
   "metadata": {},
   "source": [
    "Mayúsculas y Minúsculas"
   ]
  },
  {
   "cell_type": "code",
   "execution_count": 45,
   "metadata": {},
   "outputs": [
    {
     "data": {
      "text/plain": [
       "'the moon and the earth'"
      ]
     },
     "execution_count": 45,
     "metadata": {},
     "output_type": "execute_result"
    }
   ],
   "source": [
    "# Convertimos mayúsculas a minúsculas\n",
    "\"The Moon And The Earth\".lower()"
   ]
  },
  {
   "cell_type": "code",
   "execution_count": 46,
   "metadata": {},
   "outputs": [
    {
     "data": {
      "text/plain": [
       "'THE MOON AND THE EARTH'"
      ]
     },
     "execution_count": 46,
     "metadata": {},
     "output_type": "execute_result"
    }
   ],
   "source": [
    "# Convertimos minúsculas a mayúsculas\n",
    "\"The Moon And The Earth\".upper()"
   ]
  },
  {
   "attachments": {},
   "cell_type": "markdown",
   "metadata": {},
   "source": [
    "### d) Comprobación de Contenido"
   ]
  },
  {
   "cell_type": "code",
   "execution_count": 55,
   "metadata": {},
   "outputs": [
    {
     "data": {
      "text/plain": [
       "['Mars Average Temperature', ' -60 C']"
      ]
     },
     "execution_count": 55,
     "metadata": {},
     "output_type": "execute_result"
    }
   ],
   "source": [
    "temperatures = \"Mars Average Temperature: -60 C\"\n",
    "parts = temperatures.split(':')\n",
    "parts"
   ]
  },
  {
   "cell_type": "code",
   "execution_count": 56,
   "metadata": {},
   "outputs": [
    {
     "data": {
      "text/plain": [
       "' -60 C'"
      ]
     },
     "execution_count": 56,
     "metadata": {},
     "output_type": "execute_result"
    }
   ],
   "source": [
    "parts[-1] # Pedimos que devuelva el último elemento"
   ]
  },
  {
   "cell_type": "code",
   "execution_count": 58,
   "metadata": {},
   "outputs": [
    {
     "name": "stdout",
     "output_type": "stream",
     "text": [
      "30\n"
     ]
    }
   ],
   "source": [
    "mars_temperature = \"The highest temperature on Mars is about 30 C\"\n",
    "for item in mars_temperature.split():\n",
    "    if item.isnumeric():\n",
    "           print(item)           "
   ]
  },
  {
   "cell_type": "code",
   "execution_count": 60,
   "metadata": {},
   "outputs": [
    {
     "data": {
      "text/plain": [
       "False"
      ]
     },
     "execution_count": 60,
     "metadata": {},
     "output_type": "execute_result"
    }
   ],
   "source": [
    "\"-70\".isnumeric()"
   ]
  },
  {
   "cell_type": "code",
   "execution_count": 59,
   "metadata": {},
   "outputs": [
    {
     "data": {
      "text/plain": [
       "True"
      ]
     },
     "execution_count": 59,
     "metadata": {},
     "output_type": "execute_result"
    }
   ],
   "source": [
    "# Para buscar números negativos\n",
    "\"-60\".startswith('-')"
   ]
  },
  {
   "cell_type": "code",
   "execution_count": 61,
   "metadata": {},
   "outputs": [
    {
     "name": "stdout",
     "output_type": "stream",
     "text": [
      "This temperature is in Celsius\n"
     ]
    }
   ],
   "source": [
    "# Último carácter de una cadena de texto\n",
    "if \"30 C\".endswith(\"C\"):\n",
    "    print(\"This temperature is in Celsius\")"
   ]
  },
  {
   "attachments": {},
   "cell_type": "markdown",
   "metadata": {},
   "source": [
    "### e) Transformar texto"
   ]
  },
  {
   "cell_type": "code",
   "execution_count": 62,
   "metadata": {},
   "outputs": [
    {
     "data": {
      "text/plain": [
       "'Saturn has a daytime temperature of -170 degrees C, while Mars has -28 C.'"
      ]
     },
     "execution_count": 62,
     "metadata": {},
     "output_type": "execute_result"
    }
   ],
   "source": [
    "\"Saturn has a daytime temperature of -170 degrees Celsius, while Mars has -28 Celsius.\".replace(\"Celsius\", \"C\")"
   ]
  },
  {
   "attachments": {},
   "cell_type": "markdown",
   "metadata": {},
   "source": [
    "Ahora, para buscar una palabra, pasamos o todo a minúsculas o todo a mayúsculas"
   ]
  },
  {
   "cell_type": "code",
   "execution_count": 63,
   "metadata": {},
   "outputs": [
    {
     "data": {
      "text/plain": [
       "False"
      ]
     },
     "execution_count": 63,
     "metadata": {},
     "output_type": "execute_result"
    }
   ],
   "source": [
    "text = \"Temperatures on the Moon can vary wildly.\"\n",
    "\"temperatures\" in text"
   ]
  },
  {
   "cell_type": "code",
   "execution_count": 64,
   "metadata": {},
   "outputs": [
    {
     "data": {
      "text/plain": [
       "True"
      ]
     },
     "execution_count": 64,
     "metadata": {},
     "output_type": "execute_result"
    }
   ],
   "source": [
    "\"temperatures\" in text.lower()"
   ]
  },
  {
   "attachments": {},
   "cell_type": "markdown",
   "metadata": {},
   "source": [
    "Unir cadenas de texto"
   ]
  },
  {
   "cell_type": "code",
   "execution_count": 66,
   "metadata": {},
   "outputs": [
    {
     "data": {
      "text/plain": [
       "['The Moon is drifting away from the Earth.',\n",
       " 'On average, the Moon is moving about 4cm every year']"
      ]
     },
     "execution_count": 66,
     "metadata": {},
     "output_type": "execute_result"
    }
   ],
   "source": [
    "moon_facts = [\"The Moon is drifting away from the Earth.\", \"On average, the Moon is moving about 4cm every year\"]\n",
    "moon_facts"
   ]
  },
  {
   "cell_type": "code",
   "execution_count": 79,
   "metadata": {},
   "outputs": [
    {
     "data": {
      "text/plain": [
       "'The Moon is drifting away from the Earth. \\n On average, the Moon is moving about 4cm every year'"
      ]
     },
     "execution_count": 79,
     "metadata": {},
     "output_type": "execute_result"
    }
   ],
   "source": [
    "\" \\n \".join(moon_facts)"
   ]
  },
  {
   "attachments": {},
   "cell_type": "markdown",
   "metadata": {},
   "source": [
    "## 8. Ejercicio"
   ]
  },
  {
   "cell_type": "code",
   "execution_count": 81,
   "metadata": {},
   "outputs": [],
   "source": [
    "text = \"\"\"Interesting facts about the Moon. The Moon is Earth's only satellite. There are several interesting facts about the Moon and how it affects life here on Earth. On average, the Moon moves 4cm away from the Earth every year. This yearly drift is not significant enough to cause immediate effects on Earth. The highest daylight temperature of the Moon is 127 C.\"\"\""
   ]
  },
  {
   "cell_type": "code",
   "execution_count": 82,
   "metadata": {},
   "outputs": [
    {
     "name": "stdout",
     "output_type": "stream",
     "text": [
      "['Interesting facts about the Moon', \"The Moon is Earth's only satellite\", 'There are several interesting facts about the Moon and how it affects life here on Earth', 'On average, the Moon moves 4cm away from the Earth every year', 'This yearly drift is not significant enough to cause immediate effects on Earth', 'The highest daylight temperature of the Moon is 127 C.']\n"
     ]
    }
   ],
   "source": [
    "sentences = text.split('. ')\n",
    "print(sentences)"
   ]
  },
  {
   "cell_type": "code",
   "execution_count": 83,
   "metadata": {},
   "outputs": [
    {
     "name": "stdout",
     "output_type": "stream",
     "text": [
      "The highest daylight temperature of the Moon is 127 C.\n"
     ]
    }
   ],
   "source": [
    "for sentence in sentences:\n",
    "    if 'temperature' in sentence:\n",
    "        print(sentence)"
   ]
  },
  {
   "attachments": {},
   "cell_type": "markdown",
   "metadata": {},
   "source": [
    "## 9. Función print()"
   ]
  },
  {
   "attachments": {},
   "cell_type": "markdown",
   "metadata": {},
   "source": [
    "### a) Formato de porcentaje \"%\""
   ]
  },
  {
   "cell_type": "code",
   "execution_count": 84,
   "metadata": {},
   "outputs": [
    {
     "name": "stdout",
     "output_type": "stream",
     "text": [
      "On the Moon, you would weigh about 1/6 of your weight on Earth\n"
     ]
    }
   ],
   "source": [
    "mass_percentage = \"1/6\"\n",
    "print(\"On the Moon, you would weigh about %s of your weight on Earth\" % mass_percentage)"
   ]
  },
  {
   "cell_type": "code",
   "execution_count": 85,
   "metadata": {},
   "outputs": [
    {
     "name": "stdout",
     "output_type": "stream",
     "text": [
      "Both sides of the Moon get the same amount of sunlight,\n",
      " but only one side is seen from Earth because\n",
      " the Moon rotates around its own axis when it orbits Earth.\n"
     ]
    }
   ],
   "source": [
    "print(\"\"\"Both sides of the %s get the same amount of sunlight,\n",
    " but only one side is seen from %s because\n",
    " the %s rotates around its own axis when it orbits %s.\"\"\" % (\"Moon\", \"Earth\", \"Moon\", \"Earth\"))"
   ]
  },
  {
   "attachments": {},
   "cell_type": "markdown",
   "metadata": {},
   "source": [
    "### b) Método format()"
   ]
  },
  {
   "cell_type": "code",
   "execution_count": 86,
   "metadata": {},
   "outputs": [
    {
     "name": "stdout",
     "output_type": "stream",
     "text": [
      "On the Moon, you would weigh about 1/6 of your weight on Earth\n"
     ]
    }
   ],
   "source": [
    "mass_percentage = \"1/6\"\n",
    "print(\"On the Moon, you would weigh about {} of your weight on Earth\".format(mass_percentage))"
   ]
  },
  {
   "cell_type": "code",
   "execution_count": 87,
   "metadata": {},
   "outputs": [
    {
     "name": "stdout",
     "output_type": "stream",
     "text": [
      "You are lighter on the Moon, because on the Moon \n",
      " you would weigh about 1/6 of your weight on Earth\n"
     ]
    }
   ],
   "source": [
    "print(\"\"\"You are lighter on the {0}, because on the {0} \n",
    " you would weigh about {1} of your weight on Earth\"\"\".format(\"Moon\", mass_percentage))"
   ]
  },
  {
   "cell_type": "code",
   "execution_count": 89,
   "metadata": {},
   "outputs": [
    {
     "name": "stdout",
     "output_type": "stream",
     "text": [
      "You are lighter on the Moon, because on the Moon \n",
      " you would weigh about 1/6 of your weight on Earth\n"
     ]
    }
   ],
   "source": [
    "print(\"\"\"You are lighter on the {moon}, because on the {moon} \n",
    " you would weigh about {mass} of your weight on {earth}\"\"\".format(moon=\"Moon\", earth = \"Earth\", mass=mass_percentage))"
   ]
  },
  {
   "attachments": {},
   "cell_type": "markdown",
   "metadata": {},
   "source": [
    "### c) Cadenas f-strings"
   ]
  },
  {
   "cell_type": "code",
   "execution_count": 90,
   "metadata": {},
   "outputs": [
    {
     "name": "stdout",
     "output_type": "stream",
     "text": [
      "On the Moon, you would weigh about 1/6 of your weight on Earth\n"
     ]
    }
   ],
   "source": [
    "print(f\"On the Moon, you would weigh about {mass_percentage} of your weight on Earth\")"
   ]
  },
  {
   "cell_type": "code",
   "execution_count": 92,
   "metadata": {},
   "outputs": [
    {
     "data": {
      "text/plain": [
       "16.7"
      ]
     },
     "execution_count": 92,
     "metadata": {},
     "output_type": "execute_result"
    }
   ],
   "source": [
    "round(100/6, 1)"
   ]
  },
  {
   "cell_type": "code",
   "execution_count": 93,
   "metadata": {},
   "outputs": [
    {
     "name": "stdout",
     "output_type": "stream",
     "text": [
      "On the Moon, you would weigh about 16.7% of your weight on Earth\n"
     ]
    }
   ],
   "source": [
    "print(f\"On the Moon, you would weigh about {round(100/6, 1)}% of your weight on Earth\")"
   ]
  },
  {
   "cell_type": "code",
   "execution_count": 94,
   "metadata": {},
   "outputs": [
    {
     "data": {
      "text/plain": [
       "'Interesting Facts About The Moon'"
      ]
     },
     "execution_count": 94,
     "metadata": {},
     "output_type": "execute_result"
    }
   ],
   "source": [
    "subject = \"interesting facts about the moon\"\n",
    "f\"{subject.title()}\""
   ]
  },
  {
   "attachments": {},
   "cell_type": "markdown",
   "metadata": {},
   "source": [
    "## 10. Ejercicio"
   ]
  },
  {
   "cell_type": "code",
   "execution_count": 95,
   "metadata": {},
   "outputs": [],
   "source": [
    "name = \"Ganymede\"\n",
    "planet = \"Mars\"\n",
    "gravity = \"1.43\""
   ]
  },
  {
   "cell_type": "code",
   "execution_count": 96,
   "metadata": {},
   "outputs": [],
   "source": [
    "template = \"\"\"Gravity Facts about {name}\n",
    " --------------------------\n",
    "  Planet Name: {planet}\n",
    "  Gravity on {name}: {gravity} m/s2\"\"\""
   ]
  },
  {
   "cell_type": "code",
   "execution_count": 97,
   "metadata": {},
   "outputs": [
    {
     "name": "stdout",
     "output_type": "stream",
     "text": [
      "Gravity Facts about Ganymede\n",
      " --------------------------\n",
      "  Planet Name: Mars\n",
      "  Gravity on Ganymede: 1.43 m/s2\n"
     ]
    }
   ],
   "source": [
    "print(template.format(name=name, planet=planet, gravity=gravity))"
   ]
  }
 ],
 "metadata": {
  "kernelspec": {
   "display_name": "Python 3",
   "language": "python",
   "name": "python3"
  },
  "language_info": {
   "codemirror_mode": {
    "name": "ipython",
    "version": 3
   },
   "file_extension": ".py",
   "mimetype": "text/x-python",
   "name": "python",
   "nbconvert_exporter": "python",
   "pygments_lexer": "ipython3",
   "version": "3.11.2"
  },
  "orig_nbformat": 4
 },
 "nbformat": 4,
 "nbformat_minor": 2
}
