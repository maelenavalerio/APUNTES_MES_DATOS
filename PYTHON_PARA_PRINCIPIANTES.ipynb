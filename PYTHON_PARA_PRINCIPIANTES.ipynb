{
 "cells": [
  {
   "attachments": {},
   "cell_type": "markdown",
   "metadata": {},
   "source": [
    "# Ejercicios para principiantes\n",
    "### 1. Fechas\n",
    "### 2. Imprimir enteros como strings\n",
    "### 3. Recopilación de entradas"
   ]
  },
  {
   "attachments": {},
   "cell_type": "markdown",
   "metadata": {},
   "source": [
    "#### 1. Fechas"
   ]
  },
  {
   "cell_type": "code",
   "execution_count": 1,
   "metadata": {},
   "outputs": [
    {
     "name": "stdout",
     "output_type": "stream",
     "text": [
      "2023-03-08\n"
     ]
    }
   ],
   "source": [
    "from datetime import date\n",
    "print(date.today())"
   ]
  },
  {
   "attachments": {},
   "cell_type": "markdown",
   "metadata": {},
   "source": [
    "#### 2. Imprimir enteros como strings"
   ]
  },
  {
   "cell_type": "code",
   "execution_count": 9,
   "metadata": {},
   "outputs": [
    {
     "name": "stdout",
     "output_type": "stream",
     "text": [
      "11 parsecs is 35.86 liaghtyears\n"
     ]
    }
   ],
   "source": [
    "parsecs = 11\n",
    "lightyears = parsecs * 3.26\n",
    "print(str(parsecs) + \" parsecs is \" + str(lightyears) + \" liaghtyears\")\n"
   ]
  },
  {
   "attachments": {},
   "cell_type": "markdown",
   "metadata": {},
   "source": [
    "#### 3. Recopilación de entradas\n",
    "\n",
    "##### 1. Argumentos de la línea de comandos"
   ]
  },
  {
   "cell_type": "code",
   "execution_count": 4,
   "metadata": {},
   "outputs": [
    {
     "name": "stdout",
     "output_type": "stream",
     "text": [
      "['C:\\\\Users\\\\Usuario\\\\AppData\\\\Roaming\\\\Python\\\\Python311\\\\site-packages\\\\ipykernel_launcher.py', '--ip=127.0.0.1', '--stdin=9042', '--control=9040', '--hb=9039', '--Session.signature_scheme=\"hmac-sha256\"', '--Session.key=b\"7ff8faab-6330-44b1-88ea-4f7d7e4be1a3\"', '--shell=9041', '--transport=\"tcp\"', '--iopub=9043', '--f=c:\\\\Users\\\\Usuario\\\\AppData\\\\Roaming\\\\jupyter\\\\runtime\\\\kernel-v2-8436LJj1n3UkzC4m.json']\n",
      "C:\\Users\\Usuario\\AppData\\Roaming\\Python\\Python311\\site-packages\\ipykernel_launcher.py\n",
      "--ip=127.0.0.1\n"
     ]
    }
   ],
   "source": [
    "import sys\n",
    "\n",
    "print(sys.argv)\n",
    "print(sys.argv[0]) # nombre del programa\n",
    "print(sys.argv[1]) # Primer argumento"
   ]
  },
  {
   "attachments": {},
   "cell_type": "markdown",
   "metadata": {},
   "source": [
    "Si tuvieramosel programa guardado como backup.py 2023-01-01\n",
    "debería de darnos como resultado, el código anterior, lo siguiente:\n",
    "    ['backup.py', '2023-01-01'] \n",
    "    backup.py\n",
    "    2023-01-01"
   ]
  },
  {
   "attachments": {},
   "cell_type": "markdown",
   "metadata": {},
   "source": [
    "##### 2. Entrada de usuario\n",
    "\n",
    "Para campturar información del usuario, usamos la función input()."
   ]
  },
  {
   "cell_type": "code",
   "execution_count": 5,
   "metadata": {},
   "outputs": [
    {
     "name": "stdout",
     "output_type": "stream",
     "text": [
      "Bienvenidos la mejor programa\n",
      "Saludos Elena\n"
     ]
    }
   ],
   "source": [
    "print(\"Bienvenidos la mejor programa\")\n",
    "name = input(\"Escribe tu nombre: \")\n",
    "print(\"Saludos \" + name)"
   ]
  },
  {
   "attachments": {},
   "cell_type": "markdown",
   "metadata": {},
   "source": [
    "##### 3. Trabajo con números / Calculadora\n",
    "La función input() almacenan un reusltado como una cadena de string"
   ]
  },
  {
   "cell_type": "code",
   "execution_count": 8,
   "metadata": {},
   "outputs": [
    {
     "name": "stdout",
     "output_type": "stream",
     "text": [
      "Calculator program\n",
      "4\n"
     ]
    }
   ],
   "source": [
    "print(\"Calculator program\")\n",
    "first_number = input(\"firts number: \")\n",
    "second_number = input(\"secondd number: \")\n",
    "num = int(first_number) + int(second_number)\n",
    "print(num)"
   ]
  },
  {
   "attachments": {},
   "cell_type": "markdown",
   "metadata": {},
   "source": [
    "##### 3. Ejercicio de parsecs y años luz\n"
   ]
  },
  {
   "cell_type": "code",
   "execution_count": 11,
   "metadata": {},
   "outputs": [
    {
     "name": "stdout",
     "output_type": "stream",
     "text": [
      "214 parsecs is 697.97384 lightyears\n"
     ]
    }
   ],
   "source": [
    "parsecs_input = input(\"Ingresa el número de parsecs: \")\n",
    "parsecs = int(parsecs_input)\n",
    "lightyears = 3.26156 * parsecs\n",
    "\n",
    "print(parsecs_input + \" parsecs is \" + str(lightyears) + \" lightyears\")"
   ]
  }
 ],
 "metadata": {
  "kernelspec": {
   "display_name": "Python 3",
   "language": "python",
   "name": "python3"
  },
  "language_info": {
   "codemirror_mode": {
    "name": "ipython",
    "version": 3
   },
   "file_extension": ".py",
   "mimetype": "text/x-python",
   "name": "python",
   "nbconvert_exporter": "python",
   "pygments_lexer": "ipython3",
   "version": "3.11.2"
  },
  "orig_nbformat": 4
 },
 "nbformat": 4,
 "nbformat_minor": 2
}
